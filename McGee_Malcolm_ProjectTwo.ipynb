{
 "cells": [
  {
   "cell_type": "markdown",
   "metadata": {},
   "source": [
    "# Treasure Hunt Game Notebook\n",
    "\n",
    "## Read and Review Your Starter Code\n",
    "The theme of this project is a popular treasure hunt game in which the player needs to find the treasure before the pirate does. While you will not be developing the entire game, you will write the part of the game that represents the intelligent agent, which is a pirate in this case. The pirate will try to find the optimal path to the treasure using deep Q-learning. \n",
    "\n",
    "You have been provided with two Python classes and this notebook to help you with this assignment. The first class, TreasureMaze.py, represents the environment, which includes a maze object defined as a matrix. The second class, GameExperience.py, stores the episodes – that is, all the states that come in between the initial state and the terminal state. This is later used by the agent for learning by experience, called \"exploration\". This notebook shows how to play a game. Your task is to complete the deep Q-learning implementation for which a skeleton implementation has been provided. The code blocs you will need to complete has #TODO as a header.\n",
    "\n",
    "First, read and review the next few code and instruction blocks to understand the code that you have been given."
   ]
  },
  {
   "cell_type": "code",
   "execution_count": 40,
   "metadata": {},
   "outputs": [],
   "source": [
    "from __future__ import print_function\n",
    "import os, sys, time, datetime, json, random\n",
    "import numpy as np\n",
    "from keras.models import Sequential\n",
    "from keras.layers.core import Dense, Activation\n",
    "from keras.optimizers import SGD , Adam, RMSprop\n",
    "from keras.layers.advanced_activations import PReLU\n",
    "import matplotlib.pyplot as plt\n",
    "from TreasureMaze import TreasureMaze\n",
    "from GameExperience import GameExperience\n",
    "%matplotlib inline"
   ]
  },
  {
   "cell_type": "markdown",
   "metadata": {},
   "source": [
    "The following code block contains an 8x8 matrix that will be used as a maze object:"
   ]
  },
  {
   "cell_type": "code",
   "execution_count": 41,
   "metadata": {},
   "outputs": [],
   "source": [
    "maze = np.array([\n",
    "    [ 1.,  0.,  1.,  1.,  1.,  1.,  1.,  1.],\n",
    "    [ 1.,  0.,  1.,  1.,  1.,  0.,  1.,  1.],\n",
    "    [ 1.,  1.,  1.,  1.,  0.,  1.,  0.,  1.],\n",
    "    [ 1.,  1.,  1.,  0.,  1.,  1.,  1.,  1.],\n",
    "    [ 1.,  1.,  0.,  1.,  1.,  1.,  1.,  1.],\n",
    "    [ 1.,  1.,  1.,  0.,  1.,  0.,  0.,  0.],\n",
    "    [ 1.,  1.,  1.,  0.,  1.,  1.,  1.,  1.],\n",
    "    [ 1.,  1.,  1.,  1.,  0.,  1.,  1.,  1.]\n",
    "])"
   ]
  },
  {
   "cell_type": "markdown",
   "metadata": {},
   "source": [
    "This helper function allows a visual representation of the maze object:"
   ]
  },
  {
   "cell_type": "code",
   "execution_count": 42,
   "metadata": {},
   "outputs": [],
   "source": [
    "def show(qmaze):\n",
    "    plt.grid('on')\n",
    "    nrows, ncols = qmaze.maze.shape\n",
    "    ax = plt.gca()\n",
    "    ax.set_xticks(np.arange(0.5, nrows, 1))\n",
    "    ax.set_yticks(np.arange(0.5, ncols, 1))\n",
    "    ax.set_xticklabels([])\n",
    "    ax.set_yticklabels([])\n",
    "    canvas = np.copy(qmaze.maze)\n",
    "    for row,col in qmaze.visited:\n",
    "        canvas[row,col] = 0.6\n",
    "    pirate_row, pirate_col, _ = qmaze.state\n",
    "    canvas[pirate_row, pirate_col] = 0.3   # pirate cell\n",
    "    canvas[nrows-1, ncols-1] = 0.9 # treasure cell\n",
    "    img = plt.imshow(canvas, interpolation='none', cmap='gray')\n",
    "    return img"
   ]
  },
  {
   "cell_type": "markdown",
   "metadata": {},
   "source": [
    "The pirate agent can move in four directions: left, right, up, and down. \n",
    "\n",
    "While the agent primarily learns by experience through exploitation, often, the agent can choose to explore the environment to find previously undiscovered paths. This is called \"exploration\" and is defined by epsilon. This value is typically a lower value such as 0.1, which means for every ten attempts, the agent will attempt to learn by experience nine times and will randomly explore a new path one time. You are encouraged to try various values for the exploration factor and see how the algorithm performs."
   ]
  },
  {
   "cell_type": "code",
   "execution_count": 43,
   "metadata": {},
   "outputs": [],
   "source": [
    "LEFT = 0\n",
    "UP = 1\n",
    "RIGHT = 2\n",
    "DOWN = 3\n",
    "\n",
    "\n",
    "# Exploration factor\n",
    "epsilon = 0.1\n",
    "\n",
    "# Actions dictionary\n",
    "actions_dict = {\n",
    "    LEFT: 'left',\n",
    "    UP: 'up',\n",
    "    RIGHT: 'right',\n",
    "    DOWN: 'down',\n",
    "}\n",
    "\n",
    "num_actions = len(actions_dict)\n"
   ]
  },
  {
   "cell_type": "markdown",
   "metadata": {},
   "source": [
    "The sample code block and output below show creating a maze object and performing one action (DOWN), which returns the reward. The resulting updated environment is visualized."
   ]
  },
  {
   "cell_type": "code",
   "execution_count": 44,
   "metadata": {},
   "outputs": [
    {
     "name": "stdout",
     "output_type": "stream",
     "text": [
      "reward= -0.04\n"
     ]
    },
    {
     "data": {
      "text/plain": [
       "<matplotlib.image.AxesImage at 0x22c4ec62208>"
      ]
     },
     "execution_count": 44,
     "metadata": {},
     "output_type": "execute_result"
    },
    {
     "data": {
      "image/png": "[encoded data removed]",
      "text/plain": [
       "<Figure size 432x288 with 1 Axes>"
      ]
     },
     "metadata": {
      "needs_background": "light"
     },
     "output_type": "display_data"
    }
   ],
   "source": [
    "qmaze = TreasureMaze(maze)\n",
    "canvas, reward, game_over = qmaze.act(DOWN)\n",
    "print(\"reward=\", reward)\n",
    "show(qmaze)"
   ]
  },
  {
   "cell_type": "markdown",
   "metadata": {},
   "source": [
    "This function simulates a full game based on the provided trained model. The other parameters include the TreasureMaze object and the starting position of the pirate."
   ]
  },
  {
   "cell_type": "code",
   "execution_count": 45,
   "metadata": {},
   "outputs": [],
   "source": [
    "def play_game(model, qmaze, pirate_cell):\n",
    "    qmaze.reset(pirate_cell)\n",
    "    envstate = qmaze.observe()\n",
    "    while True:\n",
    "        prev_envstate = envstate\n",
    "        # get next action\n",
    "        q = model.predict(prev_envstate)\n",
    "        action = np.argmax(q[0])\n",
    "\n",
    "        # apply action, get rewards and new state\n",
    "        envstate, reward, game_status = qmaze.act(action)\n",
    "        if game_status == 'win':\n",
    "            return True\n",
    "        elif game_status == 'lose':\n",
    "            return False"
   ]
  },
  {
   "cell_type": "markdown",
   "metadata": {},
   "source": [
    "This function helps you to determine whether the pirate can win any game at all. If your maze is not well designed, the pirate may not win any game at all. In this case, your training would not yield any result. The provided maze in this notebook ensures that there is a path to win and you can run this method to check."
   ]
  },
  {
   "cell_type": "code",
   "execution_count": 46,
   "metadata": {},
   "outputs": [],
   "source": [
    "def completion_check(model, qmaze):\n",
    "    for cell in qmaze.free_cells:\n",
    "        if not qmaze.valid_actions(cell):\n",
    "            return False\n",
    "        if not play_game(model, qmaze, cell):\n",
    "            return False\n",
    "    return True"
   ]
  },
  {
   "cell_type": "markdown",
   "metadata": {},
   "source": [
    "The code you have been given in this block will build the neural network model. Review the code and note the number of layers, as well as the activation, optimizer, and loss functions that are used to train the model."
   ]
  },
  {
   "cell_type": "code",
   "execution_count": 47,
   "metadata": {},
   "outputs": [],
   "source": [
    "def build_model(maze):\n",
    "    model = Sequential()\n",
    "    model.add(Dense(maze.size, input_shape=(maze.size,)))\n",
    "    model.add(PReLU())\n",
    "    model.add(Dense(maze.size))\n",
    "    model.add(PReLU())\n",
    "    model.add(Dense(num_actions))\n",
    "    model.compile(optimizer='adam', loss='mse')\n",
    "    return model"
   ]
  },
  {
   "cell_type": "markdown",
   "metadata": {},
   "source": [
    "# #TODO: Complete the Q-Training Algorithm Code Block\n",
    "\n",
    "This is your deep Q-learning implementation. The goal of your deep Q-learning implementation is to find the best possible navigation sequence that results in reaching the treasure cell while maximizing the reward. In your implementation, you need to determine the optimal number of epochs to achieve a 100% win rate.\n",
    "\n",
    "You will need to complete the section starting with #pseudocode. The pseudocode has been included for you."
   ]
  },
  {
   "cell_type": "code",
   "execution_count": 48,
   "metadata": {},
   "outputs": [],
   "source": [
    "def qtrain(model, maze, **opt):\n",
    "\n",
    "    # exploration factor\n",
    "    global epsilon \n",
    "\n",
    "    # number of epochs\n",
    "    n_epoch = opt.get('n_epoch', 80)\n",
    "\n",
    "    # maximum memory to store episodes\n",
    "    max_memory = opt.get('max_memory', 1000)\n",
    "\n",
    "    # maximum data size for training\n",
    "    data_size = opt.get('data_size', 50)\n",
    "\n",
    "    # start time\n",
    "    start_time = datetime.datetime.now()\n",
    "\n",
    "    # Construct environment/game from numpy array: maze (see above)\n",
    "    qmaze = TreasureMaze(maze)\n",
    "\n",
    "    # Initialize experience replay object\n",
    "    experience = GameExperience(model, max_memory=max_memory)\n",
    "    \n",
    "    win_history = []   # history of win/lose game\n",
    "    hsize = qmaze.maze.size//2   # history window size\n",
    "    win_rate = 0.0\n",
    "    imctr = 1\n",
    "    #for loop to go through all epoch set\n",
    "    for epoch in range(n_epoch):\n",
    "        loss = 0.0\n",
    "        rat_cell = random.choice(qmaze.free_cells)\n",
    "        qmaze.reset(rat_cell)\n",
    "        game_over = False\n",
    "\n",
    "        # gets the innitial envstate \n",
    "        envstate = qmaze.observe()\n",
    "\n",
    "        n_episodes = 0\n",
    "        while not game_over:\n",
    "            #While we are going through the game \n",
    "            valid_actions = qmaze.valid_actions()\n",
    "            if not valid_actions: break\n",
    "            prev_envstate = envstate\n",
    "            # Gets the next action\n",
    "            if np.random.rand() < epsilon:\n",
    "                action = random.choice(valid_actions)\n",
    "            else:\n",
    "                action = np.argmax(experience.predict(prev_envstate))\n",
    "\n",
    "            # Applies the action and gets the reward \n",
    "            envstate, reward, game_status = qmaze.act(action)\n",
    "            if game_status == 'win':\n",
    "                #if loop for when we win\n",
    "                win_history.append(1)\n",
    "                game_over = True\n",
    "            elif game_status == 'lose':\n",
    "                #if state for lost\n",
    "                win_history.append(0)\n",
    "                game_over = True\n",
    "            else:\n",
    "                #default else \n",
    "                game_over = False\n",
    "\n",
    "            # Stores the episode \n",
    "            episode = [prev_envstate, action, reward, envstate, game_over]\n",
    "            experience.remember(episode)\n",
    "            n_episodes += 1\n",
    "\n",
    "            # Train our neural network \n",
    "            inputs, targets = experience.get_data(data_size=data_size)\n",
    "            h = model.fit(\n",
    "                inputs,\n",
    "                targets,\n",
    "                epochs=8,\n",
    "                batch_size=16,\n",
    "                verbose=0,\n",
    "            )\n",
    "            loss = model.evaluate(inputs, targets, verbose=0)\n",
    "\n",
    "        if len(win_history) > hsize:\n",
    "            win_rate = sum(win_history[-hsize:]) / hsize\n",
    "    \n",
    "        dt = datetime.datetime.now() - start_time\n",
    "        t = format_time(dt.total_seconds())\n",
    "        template = \"Epoch: {:03d}/{:d} | Loss: {:.4f} | Episodes: {:d} | Win count: {:d} | Win rate: {:.3f} | time: {}\"\n",
    "        print(template.format(epoch, n_epoch-1, loss, n_episodes, sum(win_history), win_rate, t))\n",
    "        # we simply check if training has exhausted all free cells and if in all\n",
    "        # cases the agent won\n",
    "        if win_rate > 0.9 : epsilon = 0.05\n",
    "        if sum(win_history[-hsize:]) == hsize and completion_check(model, qmaze):\n",
    "            print(\"Reached 100%% win rate at epoch: %d\" % (epoch,))\n",
    "            break\n",
    "\n",
    "    \n",
    "    \n",
    "    #Print the epoch, loss, episodes, win count, and win rate for each epoch\n",
    "        dt = datetime.datetime.now() - start_time\n",
    "        t = format_time(dt.total_seconds())\n",
    "        template = \"Epoch: {:03d}/{:d} | Loss: {:.4f} | Episodes: {:d} | Win count: {:d} | Win rate: {:.3f} | time: {}\"\n",
    "        print(template.format(epoch, n_epoch-1, loss, n_episodes, sum(win_history), win_rate, t))\n",
    "        # We simply check if training has exhausted all free cells and if in all\n",
    "        # cases the agent won.\n",
    "        if win_rate > 0.9 : epsilon = 0.05\n",
    "        if sum(win_history[-hsize:]) == hsize and completion_check(model, qmaze):\n",
    "            print(\"Reached 100%% win rate at epoch: %d\" % (epoch,))\n",
    "            break\n",
    "    \n",
    "    \n",
    "    # Determine the total time for training\n",
    "    dt = datetime.datetime.now() - start_time\n",
    "    seconds = dt.total_seconds()\n",
    "    t = format_time(seconds)\n",
    "\n",
    "    print(\"n_epoch: %d, max_mem: %d, data: %d, time: %s\" % (epoch, max_memory, data_size, t))\n",
    "    return seconds\n",
    "\n",
    "# This is a small utility for printing readable time strings:\n",
    "def format_time(seconds):\n",
    "    if seconds < 400:\n",
    "        s = float(seconds)\n",
    "        return \"%.1f seconds\" % (s,)\n",
    "    elif seconds < 4000:\n",
    "        m = seconds / 60.0\n",
    "        return \"%.2f minutes\" % (m,)\n",
    "    else:\n",
    "        h = seconds / 3600.0\n",
    "        return \"%.2f hours\" % (h,)"
   ]
  },
  {
   "cell_type": "markdown",
   "metadata": {},
   "source": [
    "## Test Your Model\n",
    "\n",
    "Now we will start testing the deep Q-learning implementation. To begin, select **Cell**, then **Run All** from the menu bar. This will run your notebook. As it runs, you should see output begin to appear beneath the next few cells. The code below creates an instance of TreasureMaze."
   ]
  },
  {
   "cell_type": "code",
   "execution_count": 49,
   "metadata": {},
   "outputs": [
    {
     "data": {
      "text/plain": [
       "<matplotlib.image.AxesImage at 0x22c4ed8f048>"
      ]
     },
     "execution_count": 49,
     "metadata": {},
     "output_type": "execute_result"
    },
    {
     "data": {
      "image/png": "[encoded data removed]",
      "text/plain": [
       "<Figure size 432x288 with 1 Axes>"
      ]
     },
     "metadata": {
      "needs_background": "light"
     },
     "output_type": "display_data"
    }
   ],
   "source": [
    "qmaze = TreasureMaze(maze)\n",
    "show(qmaze)"
   ]
  },
  {
   "cell_type": "markdown",
   "metadata": {},
   "source": [
    "In the next code block, you will build your model and train it using deep Q-learning. Note: This step takes several minutes to fully run."
   ]
  },
  {
   "cell_type": "code",
   "execution_count": 50,
   "metadata": {},
   "outputs": [
    {
     "name": "stdout",
     "output_type": "stream",
     "text": [
      "Epoch: 000/79 | Loss: 0.0017 | Episodes: 49 | Win count: 1 | Win rate: 0.000 | time: 5.9 seconds\n",
      "Epoch: 000/79 | Loss: 0.0017 | Episodes: 49 | Win count: 1 | Win rate: 0.000 | time: 6.0 seconds\n",
      "Epoch: 001/79 | Loss: 0.0105 | Episodes: 145 | Win count: 1 | Win rate: 0.000 | time: 26.4 seconds\n",
      "Epoch: 001/79 | Loss: 0.0105 | Episodes: 145 | Win count: 1 | Win rate: 0.000 | time: 26.4 seconds\n",
      "Epoch: 002/79 | Loss: 0.0068 | Episodes: 106 | Win count: 2 | Win rate: 0.000 | time: 44.2 seconds\n",
      "Epoch: 002/79 | Loss: 0.0068 | Episodes: 106 | Win count: 2 | Win rate: 0.000 | time: 44.2 seconds\n",
      "Epoch: 003/79 | Loss: 0.0043 | Episodes: 146 | Win count: 2 | Win rate: 0.000 | time: 66.9 seconds\n",
      "Epoch: 003/79 | Loss: 0.0043 | Episodes: 146 | Win count: 2 | Win rate: 0.000 | time: 66.9 seconds\n",
      "Epoch: 004/79 | Loss: 0.0031 | Episodes: 139 | Win count: 2 | Win rate: 0.000 | time: 88.1 seconds\n",
      "Epoch: 004/79 | Loss: 0.0031 | Episodes: 139 | Win count: 2 | Win rate: 0.000 | time: 88.1 seconds\n",
      "Epoch: 005/79 | Loss: 0.0010 | Episodes: 12 | Win count: 3 | Win rate: 0.000 | time: 90.0 seconds\n",
      "Epoch: 005/79 | Loss: 0.0010 | Episodes: 12 | Win count: 3 | Win rate: 0.000 | time: 90.0 seconds\n",
      "Epoch: 006/79 | Loss: 0.0031 | Episodes: 13 | Win count: 4 | Win rate: 0.000 | time: 91.9 seconds\n",
      "Epoch: 006/79 | Loss: 0.0031 | Episodes: 13 | Win count: 4 | Win rate: 0.000 | time: 91.9 seconds\n",
      "Epoch: 007/79 | Loss: 0.0033 | Episodes: 139 | Win count: 4 | Win rate: 0.000 | time: 113.4 seconds\n",
      "Epoch: 007/79 | Loss: 0.0033 | Episodes: 139 | Win count: 4 | Win rate: 0.000 | time: 113.4 seconds\n",
      "Epoch: 008/79 | Loss: 0.0019 | Episodes: 3 | Win count: 5 | Win rate: 0.000 | time: 113.8 seconds\n",
      "Epoch: 008/79 | Loss: 0.0019 | Episodes: 3 | Win count: 5 | Win rate: 0.000 | time: 113.8 seconds\n",
      "Epoch: 009/79 | Loss: 0.0155 | Episodes: 6 | Win count: 6 | Win rate: 0.000 | time: 114.9 seconds\n",
      "Epoch: 009/79 | Loss: 0.0155 | Episodes: 6 | Win count: 6 | Win rate: 0.000 | time: 114.9 seconds\n",
      "Epoch: 010/79 | Loss: 0.0023 | Episodes: 140 | Win count: 6 | Win rate: 0.000 | time: 135.6 seconds\n",
      "Epoch: 010/79 | Loss: 0.0023 | Episodes: 140 | Win count: 6 | Win rate: 0.000 | time: 135.6 seconds\n",
      "Epoch: 011/79 | Loss: 0.0032 | Episodes: 136 | Win count: 6 | Win rate: 0.000 | time: 156.4 seconds\n",
      "Epoch: 011/79 | Loss: 0.0032 | Episodes: 136 | Win count: 6 | Win rate: 0.000 | time: 156.4 seconds\n",
      "Epoch: 012/79 | Loss: 0.0245 | Episodes: 140 | Win count: 6 | Win rate: 0.000 | time: 178.2 seconds\n",
      "Epoch: 012/79 | Loss: 0.0245 | Episodes: 140 | Win count: 6 | Win rate: 0.000 | time: 178.2 seconds\n",
      "Epoch: 013/79 | Loss: 0.0015 | Episodes: 138 | Win count: 6 | Win rate: 0.000 | time: 198.4 seconds\n",
      "Epoch: 013/79 | Loss: 0.0015 | Episodes: 138 | Win count: 6 | Win rate: 0.000 | time: 198.4 seconds\n",
      "Epoch: 014/79 | Loss: 0.0025 | Episodes: 20 | Win count: 7 | Win rate: 0.000 | time: 201.5 seconds\n",
      "Epoch: 014/79 | Loss: 0.0025 | Episodes: 20 | Win count: 7 | Win rate: 0.000 | time: 201.5 seconds\n",
      "Epoch: 015/79 | Loss: 0.0019 | Episodes: 139 | Win count: 7 | Win rate: 0.000 | time: 222.8 seconds\n",
      "Epoch: 015/79 | Loss: 0.0019 | Episodes: 139 | Win count: 7 | Win rate: 0.000 | time: 222.8 seconds\n",
      "Epoch: 016/79 | Loss: 0.0331 | Episodes: 2 | Win count: 8 | Win rate: 0.000 | time: 223.0 seconds\n",
      "Epoch: 016/79 | Loss: 0.0331 | Episodes: 2 | Win count: 8 | Win rate: 0.000 | time: 223.0 seconds\n",
      "Epoch: 017/79 | Loss: 0.0019 | Episodes: 25 | Win count: 9 | Win rate: 0.000 | time: 226.6 seconds\n",
      "Epoch: 017/79 | Loss: 0.0019 | Episodes: 25 | Win count: 9 | Win rate: 0.000 | time: 226.6 seconds\n",
      "Epoch: 018/79 | Loss: 0.0089 | Episodes: 30 | Win count: 10 | Win rate: 0.000 | time: 231.5 seconds\n",
      "Epoch: 018/79 | Loss: 0.0089 | Episodes: 30 | Win count: 10 | Win rate: 0.000 | time: 231.5 seconds\n",
      "Epoch: 019/79 | Loss: 0.0054 | Episodes: 10 | Win count: 11 | Win rate: 0.000 | time: 233.3 seconds\n",
      "Epoch: 019/79 | Loss: 0.0054 | Episodes: 10 | Win count: 11 | Win rate: 0.000 | time: 233.3 seconds\n",
      "Epoch: 020/79 | Loss: 0.0071 | Episodes: 139 | Win count: 11 | Win rate: 0.000 | time: 254.7 seconds\n",
      "Epoch: 020/79 | Loss: 0.0071 | Episodes: 139 | Win count: 11 | Win rate: 0.000 | time: 254.7 seconds\n",
      "Epoch: 021/79 | Loss: 0.0059 | Episodes: 2 | Win count: 12 | Win rate: 0.000 | time: 254.9 seconds\n",
      "Epoch: 021/79 | Loss: 0.0059 | Episodes: 2 | Win count: 12 | Win rate: 0.000 | time: 254.9 seconds\n",
      "Epoch: 022/79 | Loss: 0.0119 | Episodes: 12 | Win count: 13 | Win rate: 0.000 | time: 256.7 seconds\n",
      "Epoch: 022/79 | Loss: 0.0119 | Episodes: 12 | Win count: 13 | Win rate: 0.000 | time: 256.7 seconds\n",
      "Epoch: 023/79 | Loss: 0.0067 | Episodes: 50 | Win count: 14 | Win rate: 0.000 | time: 263.9 seconds\n",
      "Epoch: 023/79 | Loss: 0.0067 | Episodes: 50 | Win count: 14 | Win rate: 0.000 | time: 263.9 seconds\n",
      "Epoch: 024/79 | Loss: 0.0021 | Episodes: 13 | Win count: 15 | Win rate: 0.000 | time: 265.9 seconds\n",
      "Epoch: 024/79 | Loss: 0.0021 | Episodes: 13 | Win count: 15 | Win rate: 0.000 | time: 265.9 seconds\n",
      "Epoch: 025/79 | Loss: 0.0063 | Episodes: 70 | Win count: 16 | Win rate: 0.000 | time: 276.7 seconds\n",
      "Epoch: 025/79 | Loss: 0.0063 | Episodes: 70 | Win count: 16 | Win rate: 0.000 | time: 276.7 seconds\n",
      "Epoch: 026/79 | Loss: 0.0345 | Episodes: 143 | Win count: 17 | Win rate: 0.000 | time: 300.8 seconds\n",
      "Epoch: 026/79 | Loss: 0.0345 | Episodes: 143 | Win count: 17 | Win rate: 0.000 | time: 300.8 seconds\n",
      "Epoch: 027/79 | Loss: 0.0056 | Episodes: 17 | Win count: 18 | Win rate: 0.000 | time: 303.4 seconds\n",
      "Epoch: 027/79 | Loss: 0.0056 | Episodes: 17 | Win count: 18 | Win rate: 0.000 | time: 303.4 seconds\n",
      "Epoch: 028/79 | Loss: 0.0052 | Episodes: 18 | Win count: 19 | Win rate: 0.000 | time: 306.0 seconds\n",
      "Epoch: 028/79 | Loss: 0.0052 | Episodes: 18 | Win count: 19 | Win rate: 0.000 | time: 306.0 seconds\n",
      "Epoch: 029/79 | Loss: 0.0283 | Episodes: 21 | Win count: 20 | Win rate: 0.000 | time: 309.5 seconds\n",
      "Epoch: 029/79 | Loss: 0.0283 | Episodes: 21 | Win count: 20 | Win rate: 0.000 | time: 309.5 seconds\n",
      "Epoch: 030/79 | Loss: 0.0208 | Episodes: 12 | Win count: 21 | Win rate: 0.000 | time: 311.3 seconds\n",
      "Epoch: 030/79 | Loss: 0.0208 | Episodes: 12 | Win count: 21 | Win rate: 0.000 | time: 311.3 seconds\n",
      "Epoch: 031/79 | Loss: 0.0021 | Episodes: 36 | Win count: 22 | Win rate: 0.000 | time: 316.8 seconds\n",
      "Epoch: 031/79 | Loss: 0.0021 | Episodes: 36 | Win count: 22 | Win rate: 0.000 | time: 316.8 seconds\n",
      "Epoch: 032/79 | Loss: 0.0020 | Episodes: 38 | Win count: 23 | Win rate: 0.688 | time: 322.8 seconds\n",
      "Epoch: 032/79 | Loss: 0.0020 | Episodes: 38 | Win count: 23 | Win rate: 0.688 | time: 322.8 seconds\n",
      "Epoch: 033/79 | Loss: 0.0012 | Episodes: 11 | Win count: 24 | Win rate: 0.719 | time: 324.6 seconds\n",
      "Epoch: 033/79 | Loss: 0.0012 | Episodes: 11 | Win count: 24 | Win rate: 0.719 | time: 324.6 seconds\n",
      "Epoch: 034/79 | Loss: 0.0018 | Episodes: 31 | Win count: 25 | Win rate: 0.719 | time: 329.3 seconds\n",
      "Epoch: 034/79 | Loss: 0.0018 | Episodes: 31 | Win count: 25 | Win rate: 0.719 | time: 329.3 seconds\n",
      "Epoch: 035/79 | Loss: 0.0027 | Episodes: 9 | Win count: 26 | Win rate: 0.750 | time: 330.6 seconds\n",
      "Epoch: 035/79 | Loss: 0.0027 | Episodes: 9 | Win count: 26 | Win rate: 0.750 | time: 330.6 seconds\n",
      "Epoch: 036/79 | Loss: 0.0110 | Episodes: 137 | Win count: 26 | Win rate: 0.750 | time: 351.7 seconds\n",
      "Epoch: 036/79 | Loss: 0.0110 | Episodes: 137 | Win count: 26 | Win rate: 0.750 | time: 351.7 seconds\n",
      "Epoch: 037/79 | Loss: 0.0028 | Episodes: 16 | Win count: 27 | Win rate: 0.750 | time: 354.1 seconds\n",
      "Epoch: 037/79 | Loss: 0.0028 | Episodes: 16 | Win count: 27 | Win rate: 0.750 | time: 354.1 seconds\n",
      "Epoch: 038/79 | Loss: 0.0037 | Episodes: 70 | Win count: 28 | Win rate: 0.750 | time: 364.6 seconds\n",
      "Epoch: 038/79 | Loss: 0.0037 | Episodes: 70 | Win count: 28 | Win rate: 0.750 | time: 364.6 seconds\n",
      "Epoch: 039/79 | Loss: 0.0059 | Episodes: 132 | Win count: 29 | Win rate: 0.781 | time: 385.0 seconds\n",
      "Epoch: 039/79 | Loss: 0.0059 | Episodes: 132 | Win count: 29 | Win rate: 0.781 | time: 385.0 seconds\n",
      "Epoch: 040/79 | Loss: 0.0030 | Episodes: 28 | Win count: 30 | Win rate: 0.781 | time: 389.1 seconds\n",
      "Epoch: 040/79 | Loss: 0.0030 | Episodes: 28 | Win count: 30 | Win rate: 0.781 | time: 389.1 seconds\n",
      "Epoch: 041/79 | Loss: 0.0043 | Episodes: 28 | Win count: 31 | Win rate: 0.781 | time: 392.8 seconds\n",
      "Epoch: 041/79 | Loss: 0.0043 | Episodes: 28 | Win count: 31 | Win rate: 0.781 | time: 392.8 seconds\n"
     ]
    },
    {
     "name": "stdout",
     "output_type": "stream",
     "text": [
      "Epoch: 042/79 | Loss: 0.0088 | Episodes: 25 | Win count: 32 | Win rate: 0.812 | time: 396.2 seconds\n",
      "Epoch: 042/79 | Loss: 0.0088 | Episodes: 25 | Win count: 32 | Win rate: 0.812 | time: 396.2 seconds\n",
      "Epoch: 043/79 | Loss: 0.0084 | Episodes: 2 | Win count: 33 | Win rate: 0.844 | time: 396.4 seconds\n",
      "Epoch: 043/79 | Loss: 0.0084 | Episodes: 2 | Win count: 33 | Win rate: 0.844 | time: 396.4 seconds\n",
      "Epoch: 044/79 | Loss: 0.0042 | Episodes: 18 | Win count: 34 | Win rate: 0.875 | time: 398.8 seconds\n",
      "Epoch: 044/79 | Loss: 0.0042 | Episodes: 18 | Win count: 34 | Win rate: 0.875 | time: 398.8 seconds\n",
      "Epoch: 045/79 | Loss: 0.0033 | Episodes: 35 | Win count: 35 | Win rate: 0.906 | time: 6.73 minutes\n",
      "Epoch: 045/79 | Loss: 0.0033 | Episodes: 35 | Win count: 35 | Win rate: 0.906 | time: 6.73 minutes\n",
      "Epoch: 046/79 | Loss: 0.0026 | Episodes: 57 | Win count: 36 | Win rate: 0.906 | time: 6.86 minutes\n",
      "Epoch: 046/79 | Loss: 0.0026 | Episodes: 57 | Win count: 36 | Win rate: 0.906 | time: 6.86 minutes\n",
      "Epoch: 047/79 | Loss: 0.0012 | Episodes: 34 | Win count: 37 | Win rate: 0.938 | time: 6.94 minutes\n",
      "Epoch: 047/79 | Loss: 0.0012 | Episodes: 34 | Win count: 37 | Win rate: 0.938 | time: 6.94 minutes\n",
      "Epoch: 048/79 | Loss: 0.0017 | Episodes: 9 | Win count: 38 | Win rate: 0.938 | time: 6.96 minutes\n",
      "Epoch: 048/79 | Loss: 0.0017 | Episodes: 9 | Win count: 38 | Win rate: 0.938 | time: 6.96 minutes\n",
      "Epoch: 049/79 | Loss: 0.0023 | Episodes: 25 | Win count: 39 | Win rate: 0.938 | time: 7.02 minutes\n",
      "Epoch: 049/79 | Loss: 0.0023 | Episodes: 25 | Win count: 39 | Win rate: 0.938 | time: 7.02 minutes\n",
      "Epoch: 050/79 | Loss: 0.0055 | Episodes: 29 | Win count: 40 | Win rate: 0.938 | time: 7.08 minutes\n",
      "Epoch: 050/79 | Loss: 0.0055 | Episodes: 29 | Win count: 40 | Win rate: 0.938 | time: 7.08 minutes\n",
      "Epoch: 051/79 | Loss: 0.0015 | Episodes: 24 | Win count: 41 | Win rate: 0.938 | time: 7.14 minutes\n",
      "Epoch: 051/79 | Loss: 0.0015 | Episodes: 24 | Win count: 41 | Win rate: 0.938 | time: 7.14 minutes\n",
      "Epoch: 052/79 | Loss: 0.0013 | Episodes: 9 | Win count: 42 | Win rate: 0.969 | time: 7.16 minutes\n",
      "Epoch: 052/79 | Loss: 0.0013 | Episodes: 9 | Win count: 42 | Win rate: 0.969 | time: 7.16 minutes\n",
      "Epoch: 053/79 | Loss: 0.0033 | Episodes: 41 | Win count: 43 | Win rate: 0.969 | time: 7.25 minutes\n",
      "Epoch: 053/79 | Loss: 0.0033 | Episodes: 41 | Win count: 43 | Win rate: 0.969 | time: 7.25 minutes\n",
      "Epoch: 054/79 | Loss: 0.0037 | Episodes: 27 | Win count: 44 | Win rate: 0.969 | time: 7.32 minutes\n",
      "Epoch: 054/79 | Loss: 0.0037 | Episodes: 27 | Win count: 44 | Win rate: 0.969 | time: 7.32 minutes\n",
      "Epoch: 055/79 | Loss: 0.0014 | Episodes: 30 | Win count: 45 | Win rate: 0.969 | time: 7.39 minutes\n",
      "Epoch: 055/79 | Loss: 0.0014 | Episodes: 30 | Win count: 45 | Win rate: 0.969 | time: 7.39 minutes\n",
      "Epoch: 056/79 | Loss: 0.0018 | Episodes: 14 | Win count: 46 | Win rate: 0.969 | time: 7.43 minutes\n",
      "Epoch: 056/79 | Loss: 0.0018 | Episodes: 14 | Win count: 46 | Win rate: 0.969 | time: 7.43 minutes\n",
      "Epoch: 057/79 | Loss: 0.0017 | Episodes: 11 | Win count: 47 | Win rate: 0.969 | time: 7.46 minutes\n",
      "Epoch: 057/79 | Loss: 0.0017 | Episodes: 11 | Win count: 47 | Win rate: 0.969 | time: 7.46 minutes\n",
      "Epoch: 058/79 | Loss: 0.0009 | Episodes: 43 | Win count: 48 | Win rate: 0.969 | time: 7.58 minutes\n",
      "Epoch: 058/79 | Loss: 0.0009 | Episodes: 43 | Win count: 48 | Win rate: 0.969 | time: 7.58 minutes\n",
      "Epoch: 059/79 | Loss: 0.0015 | Episodes: 28 | Win count: 49 | Win rate: 0.969 | time: 7.65 minutes\n",
      "Epoch: 059/79 | Loss: 0.0015 | Episodes: 28 | Win count: 49 | Win rate: 0.969 | time: 7.65 minutes\n",
      "Epoch: 060/79 | Loss: 0.0006 | Episodes: 5 | Win count: 50 | Win rate: 0.969 | time: 7.67 minutes\n",
      "Epoch: 060/79 | Loss: 0.0006 | Episodes: 5 | Win count: 50 | Win rate: 0.969 | time: 7.67 minutes\n",
      "Epoch: 061/79 | Loss: 0.0012 | Episodes: 33 | Win count: 51 | Win rate: 0.969 | time: 7.75 minutes\n",
      "Epoch: 061/79 | Loss: 0.0012 | Episodes: 33 | Win count: 51 | Win rate: 0.969 | time: 7.75 minutes\n",
      "Epoch: 062/79 | Loss: 0.0006 | Episodes: 12 | Win count: 52 | Win rate: 0.969 | time: 7.78 minutes\n",
      "Epoch: 062/79 | Loss: 0.0006 | Episodes: 12 | Win count: 52 | Win rate: 0.969 | time: 7.78 minutes\n",
      "Epoch: 063/79 | Loss: 0.0017 | Episodes: 18 | Win count: 53 | Win rate: 0.969 | time: 7.83 minutes\n",
      "Epoch: 063/79 | Loss: 0.0017 | Episodes: 18 | Win count: 53 | Win rate: 0.969 | time: 7.83 minutes\n",
      "Epoch: 064/79 | Loss: 0.0008 | Episodes: 29 | Win count: 54 | Win rate: 0.969 | time: 7.90 minutes\n",
      "Epoch: 064/79 | Loss: 0.0008 | Episodes: 29 | Win count: 54 | Win rate: 0.969 | time: 7.90 minutes\n",
      "Epoch: 065/79 | Loss: 0.0013 | Episodes: 8 | Win count: 55 | Win rate: 0.969 | time: 7.92 minutes\n",
      "Epoch: 065/79 | Loss: 0.0013 | Episodes: 8 | Win count: 55 | Win rate: 0.969 | time: 7.92 minutes\n",
      "Epoch: 066/79 | Loss: 0.0007 | Episodes: 18 | Win count: 56 | Win rate: 0.969 | time: 7.97 minutes\n",
      "Epoch: 066/79 | Loss: 0.0007 | Episodes: 18 | Win count: 56 | Win rate: 0.969 | time: 7.97 minutes\n",
      "Epoch: 067/79 | Loss: 0.0012 | Episodes: 8 | Win count: 57 | Win rate: 0.969 | time: 7.99 minutes\n",
      "Epoch: 067/79 | Loss: 0.0012 | Episodes: 8 | Win count: 57 | Win rate: 0.969 | time: 7.99 minutes\n",
      "Epoch: 068/79 | Loss: 0.0008 | Episodes: 14 | Win count: 58 | Win rate: 1.000 | time: 8.03 minutes\n",
      "Epoch: 068/79 | Loss: 0.0008 | Episodes: 14 | Win count: 58 | Win rate: 1.000 | time: 8.03 minutes\n",
      "Epoch: 069/79 | Loss: 0.0012 | Episodes: 8 | Win count: 59 | Win rate: 1.000 | time: 8.05 minutes\n",
      "Epoch: 069/79 | Loss: 0.0012 | Episodes: 8 | Win count: 59 | Win rate: 1.000 | time: 8.05 minutes\n",
      "Epoch: 070/79 | Loss: 0.0014 | Episodes: 47 | Win count: 60 | Win rate: 1.000 | time: 8.17 minutes\n",
      "Epoch: 070/79 | Loss: 0.0014 | Episodes: 47 | Win count: 60 | Win rate: 1.000 | time: 8.18 minutes\n",
      "Epoch: 071/79 | Loss: 0.0010 | Episodes: 21 | Win count: 61 | Win rate: 1.000 | time: 8.24 minutes\n",
      "Epoch: 071/79 | Loss: 0.0010 | Episodes: 21 | Win count: 61 | Win rate: 1.000 | time: 8.25 minutes\n",
      "Epoch: 072/79 | Loss: 0.0007 | Episodes: 7 | Win count: 62 | Win rate: 1.000 | time: 8.27 minutes\n",
      "Epoch: 072/79 | Loss: 0.0007 | Episodes: 7 | Win count: 62 | Win rate: 1.000 | time: 8.27 minutes\n",
      "Epoch: 073/79 | Loss: 0.0007 | Episodes: 7 | Win count: 63 | Win rate: 1.000 | time: 8.29 minutes\n",
      "Epoch: 073/79 | Loss: 0.0007 | Episodes: 7 | Win count: 63 | Win rate: 1.000 | time: 8.29 minutes\n",
      "Epoch: 074/79 | Loss: 0.0004 | Episodes: 28 | Win count: 64 | Win rate: 1.000 | time: 8.36 minutes\n",
      "Epoch: 074/79 | Loss: 0.0004 | Episodes: 28 | Win count: 64 | Win rate: 1.000 | time: 8.36 minutes\n",
      "Epoch: 075/79 | Loss: 0.0011 | Episodes: 2 | Win count: 65 | Win rate: 1.000 | time: 8.37 minutes\n",
      "Epoch: 075/79 | Loss: 0.0011 | Episodes: 2 | Win count: 65 | Win rate: 1.000 | time: 8.38 minutes\n",
      "Epoch: 076/79 | Loss: 0.0008 | Episodes: 28 | Win count: 66 | Win rate: 1.000 | time: 8.45 minutes\n",
      "Epoch: 076/79 | Loss: 0.0008 | Episodes: 28 | Win count: 66 | Win rate: 1.000 | time: 8.45 minutes\n",
      "Epoch: 077/79 | Loss: 0.0012 | Episodes: 10 | Win count: 67 | Win rate: 1.000 | time: 8.47 minutes\n",
      "Epoch: 077/79 | Loss: 0.0012 | Episodes: 10 | Win count: 67 | Win rate: 1.000 | time: 8.48 minutes\n",
      "Epoch: 078/79 | Loss: 0.0078 | Episodes: 10 | Win count: 68 | Win rate: 1.000 | time: 8.50 minutes\n",
      "Epoch: 078/79 | Loss: 0.0078 | Episodes: 10 | Win count: 68 | Win rate: 1.000 | time: 8.51 minutes\n",
      "Epoch: 079/79 | Loss: 0.0018 | Episodes: 9 | Win count: 69 | Win rate: 1.000 | time: 8.53 minutes\n",
      "Epoch: 079/79 | Loss: 0.0018 | Episodes: 9 | Win count: 69 | Win rate: 1.000 | time: 8.54 minutes\n",
      "n_epoch: 79, max_mem: 512, data: 32, time: 8.56 minutes\n"
     ]
    },
    {
     "data": {
      "text/plain": [
       "513.331337"
      ]
     },
     "execution_count": 50,
     "metadata": {},
     "output_type": "execute_result"
    }
   ],
   "source": [
    "model = build_model(maze)\n",
    "qtrain(model, maze, epochs=1000, max_memory=8*maze.size, data_size=32)"
   ]
  },
  {
   "cell_type": "markdown",
   "metadata": {},
   "source": [
    "This cell will check to see if the model passes the completion check. Note: This could take several minutes."
   ]
  },
  {
   "cell_type": "code",
   "execution_count": 51,
   "metadata": {},
   "outputs": [
    {
     "data": {
      "text/plain": [
       "<matplotlib.image.AxesImage at 0x22c53609188>"
      ]
     },
     "execution_count": 51,
     "metadata": {},
     "output_type": "execute_result"
    },
    {
     "data": {
      "image/png": "[encoded data removed]",
      "text/plain": [
       "<Figure size 432x288 with 1 Axes>"
      ]
     },
     "metadata": {
      "needs_background": "light"
     },
     "output_type": "display_data"
    }
   ],
   "source": [
    "completion_check(model, qmaze)\n",
    "show(qmaze)"
   ]
  },
  {
   "cell_type": "markdown",
   "metadata": {},
   "source": [
    "This cell will test your model for one game. It will start the pirate at the top-left corner and run play_game. The agent should find a path from the starting position to the target (treasure). The treasure is located in the bottom-right corner."
   ]
  },
  {
   "cell_type": "code",
   "execution_count": 52,
   "metadata": {},
   "outputs": [
    {
     "data": {
      "text/plain": [
       "<matplotlib.image.AxesImage at 0x22c5017e5c8>"
      ]
     },
     "execution_count": 52,
     "metadata": {},
     "output_type": "execute_result"
    },
    {
     "data": {
      "image/png": "[encoded data removed]",
      "text/plain": [
       "<Figure size 432x288 with 1 Axes>"
      ]
     },
     "metadata": {
      "needs_background": "light"
     },
     "output_type": "display_data"
    }
   ],
   "source": [
    "pirate_start = (0, 0)\n",
    "play_game(model, qmaze, pirate_start)\n",
    "show(qmaze)"
   ]
  },
  {
   "cell_type": "markdown",
   "metadata": {},
   "source": [
    "## Save and Submit Your Work\n",
    "After you have finished creating the code for your notebook, save your work. Make sure that your notebook contains your name in the filename (e.g. Doe_Jane_ProjectTwo.ipynb). This will help your instructor access and grade your work easily. Download a copy of your IPYNB file and submit it to Brightspace. Refer to the Jupyter Notebook in Apporto Tutorial if you need help with these tasks."
   ]
  }
 ],
 "metadata": {
  "kernelspec": {
   "display_name": "Python 3",
   "language": "python",
   "name": "python3"
  },
  "language_info": {
   "codemirror_mode": {
    "name": "ipython",
    "version": 3
   },
   "file_extension": ".py",
   "mimetype": "text/x-python",
   "name": "python",
   "nbconvert_exporter": "python",
   "pygments_lexer": "ipython3",
   "version": "3.7.4"
  }
 },
 "nbformat": 4,
 "nbformat_minor": 2
}
